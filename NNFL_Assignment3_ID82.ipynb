{
  "nbformat": 4,
  "nbformat_minor": 0,
  "metadata": {
    "colab": {
      "name": "Copy of Mayank_work.ipynb",
      "provenance": [],
      "collapsed_sections": []
    },
    "kernelspec": {
      "name": "python3",
      "display_name": "Python 3"
    },
    "accelerator": "GPU"
  },
  "cells": [
    {
      "cell_type": "code",
      "metadata": {
        "id": "SB4DjtLwIDkq",
        "colab_type": "code",
        "outputId": "77cd715a-a234-44f5-be72-b394fc2698f1",
        "colab": {
          "base_uri": "https://localhost:8080/",
          "height": 34
        }
      },
      "source": [
        "from keras.preprocessing.image import ImageDataGenerator\n",
        "from keras.models import Sequential\n",
        "from keras.layers.core import Dense, Dropout, Activation, Flatten\n",
        "from keras.layers.convolutional import Convolution3D, MaxPooling3D\n",
        "from keras.optimizers import SGD, RMSprop\n",
        "from keras.utils import np_utils, generic_utils\n",
        "import theano\n",
        "import os\n",
        "import matplotlib\n",
        "import matplotlib.pyplot as plt\n",
        "import numpy as np\n",
        "import pandas as pd\n",
        "import cv2\n",
        "from sklearn.model_selection import train_test_split\n",
        "from sklearn.model_selection import cross_validate\n",
        "from sklearn import preprocessing\n",
        "from keras import backend as K\n",
        "K.set_image_data_format('channels_first')"
      ],
      "execution_count": 4,
      "outputs": [
        {
          "output_type": "stream",
          "text": [
            "Using TensorFlow backend.\n"
          ],
          "name": "stderr"
        }
      ]
    },
    {
      "cell_type": "code",
      "metadata": {
        "id": "lt1Ju6i1LOAm",
        "colab_type": "code",
        "outputId": "eba2a2b0-a2e6-4d79-cf31-be39f129d619",
        "colab": {
          "base_uri": "https://localhost:8080/",
          "height": 124
        }
      },
      "source": [
        "from google.colab import drive \n",
        "drive.mount('/content/gdrive')"
      ],
      "execution_count": 6,
      "outputs": [
        {
          "output_type": "stream",
          "text": [
            "Go to this URL in a browser: https://accounts.google.com/o/oauth2/auth?client_id=947318989803-6bn6qk8qdgf4n4g3pfee6491hc0brc4i.apps.googleusercontent.com&redirect_uri=urn%3aietf%3awg%3aoauth%3a2.0%3aoob&response_type=code&scope=email%20https%3a%2f%2fwww.googleapis.com%2fauth%2fdocs.test%20https%3a%2f%2fwww.googleapis.com%2fauth%2fdrive%20https%3a%2f%2fwww.googleapis.com%2fauth%2fdrive.photos.readonly%20https%3a%2f%2fwww.googleapis.com%2fauth%2fpeopleapi.readonly\n",
            "\n",
            "Enter your authorization code:\n",
            "··········\n",
            "Mounted at /content/gdrive\n"
          ],
          "name": "stdout"
        }
      ]
    },
    {
      "cell_type": "code",
      "metadata": {
        "id": "6UxQbTtcLOOt",
        "colab_type": "code",
        "outputId": "ca39c52c-1517-4ae1-80a5-2dd425f25ad0",
        "colab": {
          "base_uri": "https://localhost:8080/",
          "height": 34
        }
      },
      "source": [
        "%cd /content/gdrive/My\\ Drive/"
      ],
      "execution_count": 7,
      "outputs": [
        {
          "output_type": "stream",
          "text": [
            "/content/gdrive/My Drive\n"
          ],
          "name": "stdout"
        }
      ]
    },
    {
      "cell_type": "code",
      "metadata": {
        "id": "AMF3XWnhLBi4",
        "colab_type": "code",
        "colab": {}
      },
      "source": [
        "# image specification\n",
        "img_rows,img_cols,img_depth=80,60,9\n",
        "\n",
        "\n",
        "# Training data\n",
        "\n",
        "X_tr=[]           # variable to store entire dataset\n",
        "\n"
      ],
      "execution_count": 0,
      "outputs": []
    },
    {
      "cell_type": "code",
      "metadata": {
        "id": "-iw-hr66Vdm4",
        "colab_type": "code",
        "outputId": "c262bc4d-f7cd-47a3-c72f-c024115b50eb",
        "colab": {
          "base_uri": "https://localhost:8080/",
          "height": 121
        }
      },
      "source": [
        "path = \"dataset/kth dataset\"\n",
        "folders = os.listdir(path)\n",
        "for folder in folders:\n",
        "  filepath = os.path.join(path, folder)\n",
        "  files = os.listdir(filepath)\n",
        "  print(len(files))"
      ],
      "execution_count": 9,
      "outputs": [
        {
          "output_type": "stream",
          "text": [
            "100\n",
            "100\n",
            "100\n",
            "100\n",
            "99\n",
            "100\n"
          ],
          "name": "stdout"
        }
      ]
    },
    {
      "cell_type": "code",
      "metadata": {
        "id": "2Bbl8pf-P-0d",
        "colab_type": "code",
        "colab": {}
      },
      "source": [
        "path = \"dataset/kth dataset\"\n",
        "folders = os.listdir(path)\n",
        "for folder in folders:\n",
        "  filepath = os.path.join(path, folder)\n",
        "  files = os.listdir(filepath)\n",
        "  for file in files:\n",
        "    vid = os.path.join(path, folder, file)\n",
        "    frames1 = []\n",
        "    frames2 = []\n",
        "    frames3 = []\n",
        "    optflow = np.zeros((img_depth-1, img_rows, img_cols, 2))\n",
        "    optflow_x = np.zeros((img_depth-1, img_rows, img_cols, 2))\n",
        "    optflow_y = np.zeros((img_depth-1, img_rows, img_cols, 2))\n",
        "    cap = cv2.VideoCapture(vid)\n",
        "    fps = cap.get(5)\n",
        "    # print (\"Frames per second using video.get(cv2.cv.CV_CAP_PROP_FPS): {0}\".format(fps))\n",
        "    for k in range(img_depth):\n",
        "        ret, frame = cap.read()\n",
        "        frame=cv2.resize(frame,(img_rows,img_cols),interpolation=cv2.INTER_AREA)\n",
        "        gray = cv2.cvtColor(frame, cv2.COLOR_BGR2GRAY)\n",
        "        gradient_x = cv2.Sobel(gray,cv2.CV_64F,1,0,ksize=5)\n",
        "        gradient_y = cv2.Sobel(gray,cv2.CV_64F,0,1,ksize=5)\n",
        "        if k+1<img_depth:\n",
        "          optflow[k] = cv2.calcOpticalFlowFarneback(gray[k],gray[k+1], None, 0.5, 3, 15, 3, 5, 1.2, 0)\n",
        "        \n",
        "        frames1.append(gray)\n",
        "        frames2.append(gradient_x)\n",
        "        frames3.append(gradient_y)\n",
        "        #plt.imshow(gray, cmap = plt.get_cmap('gray'))\n",
        "        #plt.xticks([]), plt.yticks([])  # to hide tick values on X and Y axis\n",
        "        #plt.show()\n",
        "        #cv2.imshow('frame',gray)\n",
        "\n",
        "        if cv2.waitKey(1) & 0xFF == ord('q'):\n",
        "            break\n",
        "    cap.release()\n",
        "    cv2.destroyAllWindows()\n",
        "    \n",
        "    optflow_x = cv2.normalize(optflow[...,0], None, 0, 255, cv2.NORM_MINMAX) \n",
        "    optflow_x = optflow_x.astype('uint8')  \n",
        "    optflow_y = cv2.normalize(optflow[...,1], None, 0, 255, cv2.NORM_MINMAX)\n",
        "    optflow_y = optflow_y.astype('uint8')\n",
        "    f1=np.array(frames1)\n",
        "    f2=np.array(frames2)\n",
        "    f3=np.array(frames3)\n",
        "    f4=np.array(optflow_x)\n",
        "    f5=np.array(optflow_y)\n",
        "    f4=np.reshape(f4,(img_depth-1,img_cols,img_rows))\n",
        "    f5=np.reshape(f5,(img_depth-1,img_cols,img_rows))\n",
        "\n",
        "    concat=np.concatenate((f1,f2,f3,f4,f5))\n",
        "    input=np.array(concat)\n",
        "    # print (input.shape)\n",
        "    ipt=np.rollaxis(np.rollaxis(input,2,0),2,0)\n",
        "    # print (ipt.shape)\n",
        "\n",
        "    X_tr.append(ipt)\n",
        "\n",
        "print(len(X_tr))\n"
      ],
      "execution_count": 0,
      "outputs": []
    },
    {
      "cell_type": "code",
      "metadata": {
        "id": "_ylup3dKUmM2",
        "colab_type": "code",
        "outputId": "cc0bb271-811d-46ba-f145-056e198b68bc",
        "colab": {
          "base_uri": "https://localhost:8080/",
          "height": 34
        }
      },
      "source": [
        "X_tr_array = np.array(X_tr)\n",
        "X_tr_array.shape"
      ],
      "execution_count": 11,
      "outputs": [
        {
          "output_type": "execute_result",
          "data": {
            "text/plain": [
              "(599, 60, 80, 43)"
            ]
          },
          "metadata": {
            "tags": []
          },
          "execution_count": 11
        }
      ]
    },
    {
      "cell_type": "code",
      "metadata": {
        "id": "dsyKO5NXXlY5",
        "colab_type": "code",
        "outputId": "86ff41d3-818b-40a9-fa18-d3c8eeae4f10",
        "colab": {
          "base_uri": "https://localhost:8080/",
          "height": 34
        }
      },
      "source": [
        "X_tr_array = np.array(X_tr)   # convert the frames read into array\n",
        "\n",
        "num_samples = len(X_tr_array)\n",
        "print (num_samples)"
      ],
      "execution_count": 12,
      "outputs": [
        {
          "output_type": "stream",
          "text": [
            "599\n"
          ],
          "name": "stdout"
        }
      ]
    },
    {
      "cell_type": "code",
      "metadata": {
        "id": "6psK73TOY2D0",
        "colab_type": "code",
        "colab": {}
      },
      "source": [
        "#Assign Label to each class\n",
        "\n",
        "label=np.ones((num_samples,),dtype = int)\n",
        "label[0:100]= 0\n",
        "label[100:200] = 1\n",
        "label[200:300] = 2\n",
        "label[300:400] = 3\n",
        "label[400:499]= 4\n",
        "label[499:] = 5"
      ],
      "execution_count": 0,
      "outputs": []
    },
    {
      "cell_type": "code",
      "metadata": {
        "id": "mz5w7mWHZJTr",
        "colab_type": "code",
        "outputId": "0b6bbd4e-7732-4f72-f685-bfaa2326636f",
        "colab": {
          "base_uri": "https://localhost:8080/",
          "height": 34
        }
      },
      "source": [
        "X_tr_array=np.reshape(X_tr_array,(599,80,60,43))\n",
        "X_tr_array.shape"
      ],
      "execution_count": 14,
      "outputs": [
        {
          "output_type": "execute_result",
          "data": {
            "text/plain": [
              "(599, 80, 60, 43)"
            ]
          },
          "metadata": {
            "tags": []
          },
          "execution_count": 14
        }
      ]
    },
    {
      "cell_type": "code",
      "metadata": {
        "id": "h19-xIvPtVhc",
        "colab_type": "code",
        "outputId": "ecd63e48-535a-4f2d-8da5-3838b51cb280",
        "colab": {
          "base_uri": "https://localhost:8080/",
          "height": 52
        }
      },
      "source": [
        "train_data = [X_tr_array,label]\n",
        "\n",
        "(X_train, y_train) = (train_data[0],train_data[1])\n",
        "print('X_Train shape:', X_train.shape)\n",
        "\n",
        "train_set = np.zeros((num_samples, 1, img_rows,img_cols,43))\n",
        "\n",
        "for h in range(num_samples):\n",
        "    train_set[h][0][:][:][:]=X_train[h,:,:,:]\n",
        " \n",
        "\n",
        "patch_size = 43    # img_depth or number of frames used for each video\n",
        "\n",
        "print(train_set.shape, 'train samples')\n",
        "\n",
        "# CNN Training parameters\n",
        "\n",
        "batch_size = 2\n",
        "nb_classes =6 \n",
        "nb_epoch =50\n",
        "\n",
        "# convert class vectors to binary class matrices\n",
        "Y_train = np_utils.to_categorical(y_train, nb_classes)\n",
        "\n",
        "'''\n",
        "# number of convolutional filters to use at each layer\n",
        "nb_filters = [32, 32]\n",
        "\n",
        "# level of pooling to perform at each layer (POOL x POOL)\n",
        "nb_pool = [3, 3]\n",
        "\n",
        "# level of convolution to perform at each layer (CONV x CONV)\n",
        "nb_conv = [5,5]\n",
        "'''\n",
        "# Pre-processing\n",
        "\n",
        "train_set = train_set.astype('float32')\n",
        "\n",
        "train_set -= np.mean(train_set)\n",
        "\n",
        "train_set /=np.max(train_set)\n"
      ],
      "execution_count": 70,
      "outputs": [
        {
          "output_type": "stream",
          "text": [
            "X_Train shape: (599, 80, 60, 43)\n",
            "(599, 1, 80, 60, 43) train samples\n"
          ],
          "name": "stdout"
        }
      ]
    },
    {
      "cell_type": "code",
      "metadata": {
        "id": "_IbRVMslZCwH",
        "colab_type": "code",
        "colab": {}
      },
      "source": [
        ""
      ],
      "execution_count": 0,
      "outputs": []
    },
    {
      "cell_type": "code",
      "metadata": {
        "id": "FzLVMW-d7SQA",
        "colab_type": "code",
        "colab": {}
      },
      "source": [
        "import tensorflow as tf\n",
        "import keras\n",
        "from keras import Input\n",
        "from keras.models import Model\n",
        "from keras.layers import Dense, Flatten, Conv3D, MaxPooling3D, Dropout, BatchNormalization\n",
        "from keras.layers.merge import concatenate\n",
        "from keras.utils import to_categorical\n",
        "import numpy as np\n",
        "import matplotlib.pyplot as plt\n",
        "import h5py"
      ],
      "execution_count": 0,
      "outputs": []
    },
    {
      "cell_type": "code",
      "metadata": {
        "id": "lx314XPyqtac",
        "colab_type": "code",
        "colab": {}
      },
      "source": [
        "import keras.backend.tensorflow_backend as tfback"
      ],
      "execution_count": 0,
      "outputs": []
    },
    {
      "cell_type": "code",
      "metadata": {
        "id": "iZeY_BpgreLe",
        "colab_type": "code",
        "colab": {}
      },
      "source": [
        "def _get_available_gpus():\n",
        "    \"\"\"Get a list of available gpu devices (formatted as strings).\n",
        "\n",
        "    # Returns\n",
        "        A list of available GPU devices.\n",
        "    \"\"\"\n",
        "    #global _LOCAL_DEVICES\n",
        "    if tfback._LOCAL_DEVICES is None:\n",
        "        devices = tf.config.list_logical_devices()\n",
        "        tfback._LOCAL_DEVICES = [x.name for x in devices]\n",
        "    return [x for x in tfback._LOCAL_DEVICES if 'device:gpu' in x.lower()]\n"
      ],
      "execution_count": 0,
      "outputs": []
    },
    {
      "cell_type": "code",
      "metadata": {
        "id": "_mkwV-M4rj4c",
        "colab_type": "code",
        "outputId": "f9a7fec3-e88b-422e-b207-d82015039bb4",
        "colab": {
          "base_uri": "https://localhost:8080/",
          "height": 34
        }
      },
      "source": [
        "tfback._get_available_gpus = _get_available_gpus\n",
        "tfback._get_available_gpus()"
      ],
      "execution_count": 74,
      "outputs": [
        {
          "output_type": "execute_result",
          "data": {
            "text/plain": [
              "['/device:GPU:0']"
            ]
          },
          "metadata": {
            "tags": []
          },
          "execution_count": 74
        }
      ]
    },
    {
      "cell_type": "code",
      "metadata": {
        "id": "sDW7mp-drkYr",
        "colab_type": "code",
        "outputId": "911d1ad6-4fe9-466e-e3ea-ab2e475e204d",
        "colab": {
          "base_uri": "https://localhost:8080/",
          "height": 86
        }
      },
      "source": [
        "tf.config.list_logical_devices()"
      ],
      "execution_count": 75,
      "outputs": [
        {
          "output_type": "execute_result",
          "data": {
            "text/plain": [
              "[LogicalDevice(name='/device:CPU:0', device_type='CPU'),\n",
              " LogicalDevice(name='/device:XLA_CPU:0', device_type='XLA_CPU'),\n",
              " LogicalDevice(name='/device:XLA_GPU:0', device_type='XLA_GPU'),\n",
              " LogicalDevice(name='/device:GPU:0', device_type='GPU')]"
            ]
          },
          "metadata": {
            "tags": []
          },
          "execution_count": 75
        }
      ]
    },
    {
      "cell_type": "code",
      "metadata": {
        "id": "Q2wscChw7Xpi",
        "colab_type": "code",
        "colab": {
          "base_uri": "https://localhost:8080/",
          "height": 138
        },
        "outputId": "0c75952e-dee3-42ee-e47e-9ee1954cb89e"
      },
      "source": [
        "# Define model\n",
        "\n",
        "model = Sequential()\n",
        "\n",
        "model.add(Convolution3D(8, 9, 7, 3,input_shape=(1, img_rows, img_cols, 43), activation='relu'))\n",
        "model.add(MaxPooling3D(pool_size=(3, 3, 1)))\n",
        "model.add(BatchNormalization(center=True, scale=True))\n",
        "model.add(Dropout(0.5))\n",
        "\n",
        "model.add(Convolution3D(16, 7, 7, 3,input_shape=(1, img_rows, img_cols, 43), activation='relu'))\n",
        "model.add(MaxPooling3D(pool_size=(3, 3,1)))\n",
        "model.add(BatchNormalization(center=True, scale=True))\n",
        "model.add(Dropout(0.5))\n",
        "\n",
        "model.add(Convolution3D(32, 6, 4, 1,input_shape=(1, img_rows, img_cols, 43), activation='relu'))\n",
        "model.add(BatchNormalization(center=True, scale=True))\n",
        "model.add(Dropout(0.5))\n",
        "model.add(Flatten())\n",
        "#model.add(Dense(256, activation='relu', kernel_initializer='he_uniform'))\n",
        "model.add(Dense(nb_classes,init='normal'))\n",
        "model.add(Activation('softmax'))\n",
        "\n",
        "model.compile(loss='categorical_crossentropy', optimizer='RMSprop', metrics=['accuracy'])\n"
      ],
      "execution_count": 76,
      "outputs": [
        {
          "output_type": "stream",
          "text": [
            "/usr/local/lib/python3.6/dist-packages/ipykernel_launcher.py:5: UserWarning: Update your `Conv3D` call to the Keras 2 API: `Conv3D(8, (9, 7, 3), input_shape=(1, 80, 60..., activation=\"relu\")`\n",
            "  \"\"\"\n",
            "/usr/local/lib/python3.6/dist-packages/ipykernel_launcher.py:10: UserWarning: Update your `Conv3D` call to the Keras 2 API: `Conv3D(16, (7, 7, 3), input_shape=(1, 80, 60..., activation=\"relu\")`\n",
            "  # Remove the CWD from sys.path while we load stuff.\n",
            "/usr/local/lib/python3.6/dist-packages/ipykernel_launcher.py:15: UserWarning: Update your `Conv3D` call to the Keras 2 API: `Conv3D(32, (6, 4, 1), input_shape=(1, 80, 60..., activation=\"relu\")`\n",
            "  from ipykernel import kernelapp as app\n",
            "/usr/local/lib/python3.6/dist-packages/ipykernel_launcher.py:20: UserWarning: Update your `Dense` call to the Keras 2 API: `Dense(6, kernel_initializer=\"normal\")`\n"
          ],
          "name": "stderr"
        }
      ]
    },
    {
      "cell_type": "code",
      "metadata": {
        "id": "fgSQ7VJEogcI",
        "colab_type": "code",
        "colab": {}
      },
      "source": [
        "#model.compile(loss='categorical_crossentropy', optimizer='RMSprop', metrics=['accuracy'])\n",
        "\n",
        "# Split the data\n",
        "\n",
        "X_train_new, X_val_new, y_train_new,y_val_new =  train_test_split(train_set, Y_train, test_size=0.2, random_state=4)\n",
        "\n"
      ],
      "execution_count": 0,
      "outputs": []
    },
    {
      "cell_type": "code",
      "metadata": {
        "id": "5YEWCt-G3lc0",
        "colab_type": "code",
        "outputId": "138735b8-3431-4e18-f77b-753d7fc0dc6f",
        "colab": {
          "base_uri": "https://localhost:8080/",
          "height": 1000
        }
      },
      "source": [
        "hist = model.fit(X_train_new, y_train_new, validation_data=(X_val_new,y_val_new),batch_size=batch_size,nb_epoch = nb_epoch,shuffle=True)"
      ],
      "execution_count": 78,
      "outputs": [
        {
          "output_type": "stream",
          "text": [
            "/usr/local/lib/python3.6/dist-packages/ipykernel_launcher.py:1: UserWarning: The `nb_epoch` argument in `fit` has been renamed `epochs`.\n",
            "  \"\"\"Entry point for launching an IPython kernel.\n"
          ],
          "name": "stderr"
        },
        {
          "output_type": "stream",
          "text": [
            "Train on 479 samples, validate on 120 samples\n",
            "Epoch 1/50\n",
            "479/479 [==============================] - 5s 11ms/step - loss: 2.2465 - accuracy: 0.3591 - val_loss: 1.4553 - val_accuracy: 0.4250\n",
            "Epoch 2/50\n",
            "479/479 [==============================] - 4s 9ms/step - loss: 1.7541 - accuracy: 0.4301 - val_loss: 1.0279 - val_accuracy: 0.6083\n",
            "Epoch 3/50\n",
            "479/479 [==============================] - 4s 9ms/step - loss: 1.5969 - accuracy: 0.4656 - val_loss: 1.1163 - val_accuracy: 0.5667\n",
            "Epoch 4/50\n",
            "479/479 [==============================] - 4s 9ms/step - loss: 1.3334 - accuracy: 0.4990 - val_loss: 1.0531 - val_accuracy: 0.5583\n",
            "Epoch 5/50\n",
            "479/479 [==============================] - 4s 9ms/step - loss: 1.3816 - accuracy: 0.4906 - val_loss: 0.9538 - val_accuracy: 0.5500\n",
            "Epoch 6/50\n",
            "479/479 [==============================] - 4s 9ms/step - loss: 1.0560 - accuracy: 0.5866 - val_loss: 0.9754 - val_accuracy: 0.5667\n",
            "Epoch 7/50\n",
            "479/479 [==============================] - 4s 9ms/step - loss: 1.1294 - accuracy: 0.5386 - val_loss: 1.0005 - val_accuracy: 0.5833\n",
            "Epoch 8/50\n",
            "479/479 [==============================] - 4s 9ms/step - loss: 0.9334 - accuracy: 0.5699 - val_loss: 1.1726 - val_accuracy: 0.5667\n",
            "Epoch 9/50\n",
            "479/479 [==============================] - 4s 9ms/step - loss: 0.9863 - accuracy: 0.5783 - val_loss: 0.8420 - val_accuracy: 0.6250\n",
            "Epoch 10/50\n",
            "479/479 [==============================] - 4s 9ms/step - loss: 0.8938 - accuracy: 0.6221 - val_loss: 0.8481 - val_accuracy: 0.6583\n",
            "Epoch 11/50\n",
            "479/479 [==============================] - 4s 9ms/step - loss: 0.8207 - accuracy: 0.6493 - val_loss: 0.9457 - val_accuracy: 0.6000\n",
            "Epoch 12/50\n",
            "479/479 [==============================] - 4s 9ms/step - loss: 0.8002 - accuracy: 0.6785 - val_loss: 0.9349 - val_accuracy: 0.6417\n",
            "Epoch 13/50\n",
            "479/479 [==============================] - 4s 9ms/step - loss: 0.7775 - accuracy: 0.6660 - val_loss: 0.9834 - val_accuracy: 0.6333\n",
            "Epoch 14/50\n",
            "479/479 [==============================] - 4s 9ms/step - loss: 0.7505 - accuracy: 0.6639 - val_loss: 0.9894 - val_accuracy: 0.6333\n",
            "Epoch 15/50\n",
            "479/479 [==============================] - 4s 9ms/step - loss: 0.6794 - accuracy: 0.6994 - val_loss: 0.9204 - val_accuracy: 0.6500\n",
            "Epoch 16/50\n",
            "479/479 [==============================] - 4s 9ms/step - loss: 0.6558 - accuracy: 0.7098 - val_loss: 0.8927 - val_accuracy: 0.6583\n",
            "Epoch 17/50\n",
            "479/479 [==============================] - 4s 9ms/step - loss: 0.6734 - accuracy: 0.7182 - val_loss: 1.0987 - val_accuracy: 0.6000\n",
            "Epoch 18/50\n",
            "479/479 [==============================] - 4s 9ms/step - loss: 0.6245 - accuracy: 0.7223 - val_loss: 0.9424 - val_accuracy: 0.6000\n",
            "Epoch 19/50\n",
            "479/479 [==============================] - 4s 9ms/step - loss: 0.5847 - accuracy: 0.7453 - val_loss: 0.8004 - val_accuracy: 0.6583\n",
            "Epoch 20/50\n",
            "479/479 [==============================] - 4s 9ms/step - loss: 0.5843 - accuracy: 0.7411 - val_loss: 0.8484 - val_accuracy: 0.6417\n",
            "Epoch 21/50\n",
            "479/479 [==============================] - 4s 9ms/step - loss: 0.6036 - accuracy: 0.7203 - val_loss: 0.9525 - val_accuracy: 0.6583\n",
            "Epoch 22/50\n",
            "479/479 [==============================] - 4s 9ms/step - loss: 0.5396 - accuracy: 0.7745 - val_loss: 0.8057 - val_accuracy: 0.7000\n",
            "Epoch 23/50\n",
            "479/479 [==============================] - 4s 9ms/step - loss: 0.5352 - accuracy: 0.7745 - val_loss: 0.9602 - val_accuracy: 0.6667\n",
            "Epoch 24/50\n",
            "479/479 [==============================] - 4s 9ms/step - loss: 0.4854 - accuracy: 0.8079 - val_loss: 0.9720 - val_accuracy: 0.6167\n",
            "Epoch 25/50\n",
            "479/479 [==============================] - 4s 9ms/step - loss: 0.4968 - accuracy: 0.8100 - val_loss: 1.0346 - val_accuracy: 0.6500\n",
            "Epoch 26/50\n",
            "479/479 [==============================] - 4s 9ms/step - loss: 0.5388 - accuracy: 0.7662 - val_loss: 0.9187 - val_accuracy: 0.6917\n",
            "Epoch 27/50\n",
            "479/479 [==============================] - 4s 9ms/step - loss: 0.4867 - accuracy: 0.7933 - val_loss: 0.8870 - val_accuracy: 0.7083\n",
            "Epoch 28/50\n",
            "479/479 [==============================] - 4s 9ms/step - loss: 0.4614 - accuracy: 0.7975 - val_loss: 0.9225 - val_accuracy: 0.6833\n",
            "Epoch 29/50\n",
            "479/479 [==============================] - 4s 9ms/step - loss: 0.4229 - accuracy: 0.8058 - val_loss: 1.0441 - val_accuracy: 0.6500\n",
            "Epoch 30/50\n",
            "479/479 [==============================] - 4s 9ms/step - loss: 0.4761 - accuracy: 0.7829 - val_loss: 1.2115 - val_accuracy: 0.6333\n",
            "Epoch 31/50\n",
            "479/479 [==============================] - 4s 9ms/step - loss: 0.4206 - accuracy: 0.7996 - val_loss: 1.1173 - val_accuracy: 0.6750\n",
            "Epoch 32/50\n",
            "479/479 [==============================] - 4s 9ms/step - loss: 0.3979 - accuracy: 0.8330 - val_loss: 1.2654 - val_accuracy: 0.6333\n",
            "Epoch 33/50\n",
            "479/479 [==============================] - 4s 9ms/step - loss: 0.3936 - accuracy: 0.8351 - val_loss: 1.2370 - val_accuracy: 0.6417\n",
            "Epoch 34/50\n",
            "479/479 [==============================] - 4s 9ms/step - loss: 0.3937 - accuracy: 0.8372 - val_loss: 1.2004 - val_accuracy: 0.6083\n",
            "Epoch 35/50\n",
            "479/479 [==============================] - 4s 9ms/step - loss: 0.4176 - accuracy: 0.8351 - val_loss: 1.0449 - val_accuracy: 0.6583\n",
            "Epoch 36/50\n",
            "479/479 [==============================] - 4s 9ms/step - loss: 0.4058 - accuracy: 0.8330 - val_loss: 1.0613 - val_accuracy: 0.7083\n",
            "Epoch 37/50\n",
            "479/479 [==============================] - 4s 9ms/step - loss: 0.3440 - accuracy: 0.8476 - val_loss: 1.3567 - val_accuracy: 0.6250\n",
            "Epoch 38/50\n",
            "479/479 [==============================] - 4s 9ms/step - loss: 0.3918 - accuracy: 0.8497 - val_loss: 1.0963 - val_accuracy: 0.6833\n",
            "Epoch 39/50\n",
            "479/479 [==============================] - 4s 9ms/step - loss: 0.3688 - accuracy: 0.8497 - val_loss: 1.1820 - val_accuracy: 0.6750\n",
            "Epoch 40/50\n",
            "479/479 [==============================] - 4s 9ms/step - loss: 0.3893 - accuracy: 0.8330 - val_loss: 1.1126 - val_accuracy: 0.6667\n",
            "Epoch 41/50\n",
            "479/479 [==============================] - 4s 9ms/step - loss: 0.3401 - accuracy: 0.8476 - val_loss: 1.2780 - val_accuracy: 0.6833\n",
            "Epoch 42/50\n",
            "479/479 [==============================] - 4s 9ms/step - loss: 0.3546 - accuracy: 0.8580 - val_loss: 1.3818 - val_accuracy: 0.6583\n",
            "Epoch 43/50\n",
            "479/479 [==============================] - 4s 9ms/step - loss: 0.2775 - accuracy: 0.8935 - val_loss: 1.3095 - val_accuracy: 0.7083\n",
            "Epoch 44/50\n",
            "479/479 [==============================] - 4s 9ms/step - loss: 0.3572 - accuracy: 0.8413 - val_loss: 1.2510 - val_accuracy: 0.7167\n",
            "Epoch 45/50\n",
            "479/479 [==============================] - 4s 9ms/step - loss: 0.2990 - accuracy: 0.8810 - val_loss: 1.2765 - val_accuracy: 0.6750\n",
            "Epoch 46/50\n",
            "479/479 [==============================] - 4s 9ms/step - loss: 0.2918 - accuracy: 0.8873 - val_loss: 1.4180 - val_accuracy: 0.6833\n",
            "Epoch 47/50\n",
            "479/479 [==============================] - 4s 9ms/step - loss: 0.2549 - accuracy: 0.9040 - val_loss: 1.5317 - val_accuracy: 0.6417\n",
            "Epoch 48/50\n",
            "479/479 [==============================] - 4s 9ms/step - loss: 0.2895 - accuracy: 0.8873 - val_loss: 1.4050 - val_accuracy: 0.6667\n",
            "Epoch 49/50\n",
            "479/479 [==============================] - 4s 9ms/step - loss: 0.2634 - accuracy: 0.9248 - val_loss: 1.3979 - val_accuracy: 0.6833\n",
            "Epoch 50/50\n",
            "479/479 [==============================] - 4s 9ms/step - loss: 0.2862 - accuracy: 0.8873 - val_loss: 1.5378 - val_accuracy: 0.6750\n"
          ],
          "name": "stdout"
        }
      ]
    },
    {
      "cell_type": "code",
      "metadata": {
        "id": "iSYK6pl63fj7",
        "colab_type": "code",
        "outputId": "94801b3f-2f8d-470e-bcb1-5144c39d0d44",
        "colab": {
          "base_uri": "https://localhost:8080/",
          "height": 884
        }
      },
      "source": [
        "\n",
        "\n",
        "\n",
        "#hist = model.fit(train_set, Y_train, batch_size=batch_size,\n",
        "#         nb_epoch=nb_epoch,validation_split=0.2, show_accuracy=True,\n",
        "#           shuffle=True)\n",
        "#batch_size=32\n",
        "#nb_epoch=120\n",
        " # Evaluate the model\n",
        "score = model.evaluate(X_val_new, y_val_new, batch_size=batch_size)\n",
        "print('Test score:', score[0])\n",
        "print('Test accuracy:', score[1])\n",
        "\n",
        "\n",
        "# Plot the results\n",
        "train_loss=hist.history['loss']\n",
        "val_loss=hist.history['val_loss']\n",
        "train_acc=hist.history['accuracy']\n",
        "val_acc=hist.history['val_accuracy']\n",
        "xc=range(nb_epoch)\n",
        "\n",
        "plt.figure(1,figsize=(7,5))\n",
        "plt.plot(xc,train_loss)\n",
        "plt.plot(xc,val_loss)\n",
        "plt.xlabel('num of Epochs')\n",
        "plt.ylabel('loss')\n",
        "plt.title('train_loss vs val_loss')\n",
        "plt.grid(True)\n",
        "plt.legend(['train','val'])\n",
        "print (plt.style.available) # use bmh, classic,ggplot for big pictures\n",
        "plt.style.use(['classic'])\n",
        "\n",
        "plt.figure(2,figsize=(7,5))\n",
        "plt.plot(xc,train_acc)\n",
        "plt.plot(xc,val_acc)\n",
        "plt.xlabel('num of Epochs')\n",
        "plt.ylabel('accuracy')\n",
        "plt.title('train_acc vs val_acc')\n",
        "plt.grid(True)\n",
        "plt.legend(['train','val'],loc=4)\n",
        "#print plt.style.available # use bmh, classic,ggplot for big pictures\n",
        "plt.style.use(['classic']) "
      ],
      "execution_count": 79,
      "outputs": [
        {
          "output_type": "stream",
          "text": [
            "120/120 [==============================] - 0s 3ms/step\n",
            "Test score: 1.537817478478549\n",
            "Test accuracy: 0.675000011920929\n",
            "['Solarize_Light2', '_classic_test_patch', 'bmh', 'classic', 'dark_background', 'fast', 'fivethirtyeight', 'ggplot', 'grayscale', 'seaborn', 'seaborn-bright', 'seaborn-colorblind', 'seaborn-dark', 'seaborn-dark-palette', 'seaborn-darkgrid', 'seaborn-deep', 'seaborn-muted', 'seaborn-notebook', 'seaborn-paper', 'seaborn-pastel', 'seaborn-poster', 'seaborn-talk', 'seaborn-ticks', 'seaborn-white', 'seaborn-whitegrid', 'tableau-colorblind10']\n"
          ],
          "name": "stdout"
        },
        {
          "output_type": "display_data",
          "data": {
            "image/png": "[encoded data removed]",
            "text/plain": [
              "<Figure size 560x400 with 1 Axes>"
            ]
          },
          "metadata": {
            "tags": []
          }
        },
        {
          "output_type": "display_data",
          "data": {
            "image/png": "[encoded data removed]",
            "text/plain": [
              "<Figure size 560x400 with 1 Axes>"
            ]
          },
          "metadata": {
            "tags": []
          }
        }
      ]
    },
    {
      "cell_type": "code",
      "metadata": {
        "id": "I3zyfLsgzYFM",
        "colab_type": "code",
        "colab": {}
      },
      "source": [
        ""
      ],
      "execution_count": 0,
      "outputs": []
    }
  ]
}
